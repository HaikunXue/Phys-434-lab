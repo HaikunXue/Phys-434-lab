{
 "cells": [
  {
   "cell_type": "markdown",
   "id": "1795630f-609d-46f8-84ac-d02ea682c5cf",
   "metadata": {},
   "source": [
    "AHA\n"
   ]
  }
 ],
 "metadata": {
  "kernelspec": {
   "display_name": "Python 3",
   "language": "python",
   "name": "python3"
  },
  "language_info": {
   "codemirror_mode": {
    "name": "ipython",
    "version": 3
   },
   "file_extension": ".py",
   "mimetype": "text/x-python",
   "name": "python",
   "nbconvert_exporter": "python",
   "pygments_lexer": "ipython3",
   "version": "3.8.8"
  }
 },
 "nbformat": 4,
 "nbformat_minor": 5
}
