{
 "cells": [
  {
   "cell_type": "markdown",
   "id": "339c664e-3bce-4d03-9281-d1f1c42843f6",
   "metadata": {},
   "source": [
    "### Homework 3\n",
    "-Haikun Xue"
   ]
  },
  {
   "cell_type": "markdown",
   "id": "8c537462-eec3-40de-b073-d9d4437fc2c6",
   "metadata": {},
   "source": [
    "#### Problem #1  \n",
    "##### 1 a)  \n",
    "The first algorithm makes $ 3 + 5 = 8 $ mistakes,  \n",
    "while the second makes  |  $ 1 + 11 = 12$mistakes,  \n",
    "thus the first makes the fewest mistakes\n"
   ]
  },
  {
   "cell_type": "markdown",
   "id": "b3ce7414-3cb2-46db-9fbf-6dc211accfa5",
   "metadata": {},
   "source": [
    "##### 1 b)  \n",
    "The second algorithm is better for the zoo,  \n",
    "as it false identifies much less birds as people than people as birds."
   ]
  },
  {
   "cell_type": "markdown",
   "id": "89533337-2579-406a-8a86-53017dc7c14a",
   "metadata": {},
   "source": [
    "##### 1 c)   \n",
    "First Algorithm:"
   ]
  },
  {
   "cell_type": "markdown",
   "id": "5b8ed553-fc69-421f-8d77-ca079832b1c8",
   "metadata": {},
   "source": [
    "|      | True Bird | True Person |  \n",
    "| ----------- | ----------- | ----------- |  \n",
    "| NA Bird     |  92.81     | 0.10 |  \n",
    "| NA Person  | 6.19     | 0.90 |  "
   ]
  },
  {
   "cell_type": "markdown",
   "id": "0f81699f-a59e-4903-acbc-a72ebc1609e3",
   "metadata": {},
   "source": [
    "Second Algorithm:"
   ]
  },
  {
   "cell_type": "markdown",
   "id": "40783c71-fdfe-41e9-9642-e93a16898d9a",
   "metadata": {},
   "source": [
    "|      | True Bird | True Person |  \n",
    "| ----------- | ----------- | ----------- |  \n",
    "| NA Bird     |  96.94     | 0.21 |  \n",
    "| NA Person  | 2.06       | 0.79 |  "
   ]
  },
  {
   "cell_type": "markdown",
   "id": "f2f1cb1b-92dc-4fc0-a6ac-191b0ea5d9d6",
   "metadata": {},
   "source": [
    "#### Problem #2"
   ]
  },
  {
   "cell_type": "markdown",
   "id": "86206367-668f-4355-a3ec-76048f11293b",
   "metadata": {},
   "source": [
    "##### 2 a)  \n",
    "The pdf of the sum of two identical exponential distribution is a Erlang Distribution:\n",
    "$$\n",
    "f(x) = \\lambda ^{2}x  e^{-\\lambda x}\n",
    "$$"
   ]
  },
  {
   "cell_type": "markdown",
   "id": "4ad0ec89-1521-472c-87ef-4a686b16f948",
   "metadata": {},
   "source": [
    "##### 2 b)  \n",
    "The pdf of the ratio of two zero-mean unity variance normal distributions  \n",
    "$ X_1 / X_2 $ is a Cauchy Distribution, with the form:  \n",
    "$$\n",
    "f(X_1, X_2)= \\frac{1}{2 \\pi} e^{ - (\\frac{X_1^2+ X_2^2}{2})}\n",
    "$$"
   ]
  },
  {
   "cell_type": "markdown",
   "id": "55295cc7-0e25-4b83-a56b-03fdf414c6b6",
   "metadata": {},
   "source": [
    "##### 3 b)    \n",
    "It would be\n",
    "$$\n",
    "\\sqrt {(X^2 + Y^2)}\n",
    "$$  \n",
    "Where X and Y are the Gaussian Distributions.  \n",
    "If $\\sigma_X = \\sigma_Y$, then it would be a Noncentral chi-squared distribution in the form:  \n",
    "$$\n",
    "f_{X}(x;k,\\lambda )=\\sum _{i=0}^{\\infty }{\\frac {e^{-\\lambda /2}(\\lambda /2)^{i}}{i!}}f_{Y_{k+2i}}(x),\n",
    "$$  \n",
    "If not, apparently there is a whole book on this: https://www.researchgate.net/publication/243770190_Quadratic_Forms_in_Random_Variables\n"
   ]
  },
  {
   "cell_type": "code",
   "execution_count": null,
   "id": "e026c017-f91c-4967-9026-a7df5a5f78f5",
   "metadata": {},
   "outputs": [],
   "source": []
  }
 ],
 "metadata": {
  "kernelspec": {
   "display_name": "Python 3",
   "language": "python",
   "name": "python3"
  },
  "language_info": {
   "codemirror_mode": {
    "name": "ipython",
    "version": 3
   },
   "file_extension": ".py",
   "mimetype": "text/x-python",
   "name": "python",
   "nbconvert_exporter": "python",
   "pygments_lexer": "ipython3",
   "version": "3.8.8"
  }
 },
 "nbformat": 4,
 "nbformat_minor": 5
}
